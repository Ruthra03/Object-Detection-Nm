{
  "nbformat": 4,
  "nbformat_minor": 0,
  "metadata": {
    "colab": {
      "provenance": [],
      "gpuType": "T4"
    },
    "kernelspec": {
      "name": "python3",
      "display_name": "Python 3"
    },
    "accelerator": "GPU"
  },
  "cells": [
    {
      "cell_type": "markdown",
      "metadata": {
        "id": "tssMqegl32b7"
      },
      "source": [
        "## Let's mount google drive first for a storage and GPU"
      ]
    },
    {
      "cell_type": "code",
      "metadata": {
        "id": "PMnAyVPp3tWj",
        "colab": {
          "base_uri": "https://localhost:8080/"
        },
        "outputId": "93ccb0c0-0370-4d01-c7ad-eec6ab8da929"
      },
      "source": [
        "from google.colab import drive\n",
        "drive.mount('/content/gdrive')"
      ],
      "execution_count": 1,
      "outputs": [
        {
          "output_type": "stream",
          "name": "stdout",
          "text": [
            "Mounted at /content/gdrive\n"
          ]
        }
      ]
    },
    {
      "cell_type": "code",
      "metadata": {
        "id": "AWKkotwn3600",
        "colab": {
          "base_uri": "https://localhost:8080/"
        },
        "outputId": "89420868-1d5d-45b2-af2b-4f017d9a76e1"
      },
      "source": [
        "# make sure you use Tesla K80 GPU (12GB), by changing 'runtmie type'\n",
        "!nvidia-smi"
      ],
      "execution_count": 2,
      "outputs": [
        {
          "output_type": "stream",
          "name": "stdout",
          "text": [
            "Wed Apr  3 14:15:30 2024       \n",
            "+---------------------------------------------------------------------------------------+\n",
            "| NVIDIA-SMI 535.104.05             Driver Version: 535.104.05   CUDA Version: 12.2     |\n",
            "|-----------------------------------------+----------------------+----------------------+\n",
            "| GPU  Name                 Persistence-M | Bus-Id        Disp.A | Volatile Uncorr. ECC |\n",
            "| Fan  Temp   Perf          Pwr:Usage/Cap |         Memory-Usage | GPU-Util  Compute M. |\n",
            "|                                         |                      |               MIG M. |\n",
            "|=========================================+======================+======================|\n",
            "|   0  Tesla T4                       Off | 00000000:00:04.0 Off |                    0 |\n",
            "| N/A   41C    P8              11W /  70W |      0MiB / 15360MiB |      0%      Default |\n",
            "|                                         |                      |                  N/A |\n",
            "+-----------------------------------------+----------------------+----------------------+\n",
            "                                                                                         \n",
            "+---------------------------------------------------------------------------------------+\n",
            "| Processes:                                                                            |\n",
            "|  GPU   GI   CI        PID   Type   Process name                            GPU Memory |\n",
            "|        ID   ID                                                             Usage      |\n",
            "|=======================================================================================|\n",
            "|  No running processes found                                                           |\n",
            "+---------------------------------------------------------------------------------------+\n"
          ]
        }
      ]
    },
    {
      "cell_type": "markdown",
      "metadata": {
        "id": "psIgDD8Z4qAK"
      },
      "source": [
        "## Clone YoloV5 GitHub repository"
      ]
    },
    {
      "cell_type": "code",
      "metadata": {
        "id": "40KKk3s4AHHO",
        "colab": {
          "base_uri": "https://localhost:8080/"
        },
        "outputId": "d5bb5a40-e6eb-4366-b0a6-e12567622b00"
      },
      "source": [
        "!git clone https://github.com/ultralytics/yolov5  # clone repo\n",
        "!pip install -r yolov5/requirements.txt  # install dependencies"
      ],
      "execution_count": null,
      "outputs": [
        {
          "output_type": "stream",
          "name": "stdout",
          "text": [
            "Cloning into 'yolov5'...\n",
            "remote: Enumerating objects: 16525, done.\u001b[K\n",
            "remote: Total 16525 (delta 0), reused 0 (delta 0), pack-reused 16525\u001b[K\n",
            "Receiving objects: 100% (16525/16525), 15.06 MiB | 18.54 MiB/s, done.\n",
            "Resolving deltas: 100% (11359/11359), done.\n",
            "Collecting gitpython>=3.1.30 (from -r yolov5/requirements.txt (line 5))\n",
            "  Downloading GitPython-3.1.43-py3-none-any.whl (207 kB)\n",
            "\u001b[2K     \u001b[90m━━━━━━━━━━━━━━━━━━━━━━━━━━━━━━━━━━━━━━━━\u001b[0m \u001b[32m207.3/207.3 kB\u001b[0m \u001b[31m6.2 MB/s\u001b[0m eta \u001b[36m0:00:00\u001b[0m\n",
            "\u001b[?25hRequirement already satisfied: matplotlib>=3.3 in /usr/local/lib/python3.10/dist-packages (from -r yolov5/requirements.txt (line 6)) (3.7.1)\n",
            "Requirement already satisfied: numpy>=1.23.5 in /usr/local/lib/python3.10/dist-packages (from -r yolov5/requirements.txt (line 7)) (1.25.2)\n",
            "Requirement already satisfied: opencv-python>=4.1.1 in /usr/local/lib/python3.10/dist-packages (from -r yolov5/requirements.txt (line 8)) (4.8.0.76)\n",
            "Requirement already satisfied: Pillow>=9.4.0 in /usr/local/lib/python3.10/dist-packages (from -r yolov5/requirements.txt (line 9)) (9.4.0)\n",
            "Requirement already satisfied: psutil in /usr/local/lib/python3.10/dist-packages (from -r yolov5/requirements.txt (line 10)) (5.9.5)\n",
            "Requirement already satisfied: PyYAML>=5.3.1 in /usr/local/lib/python3.10/dist-packages (from -r yolov5/requirements.txt (line 11)) (6.0.1)\n",
            "Requirement already satisfied: requests>=2.23.0 in /usr/local/lib/python3.10/dist-packages (from -r yolov5/requirements.txt (line 12)) (2.31.0)\n",
            "Requirement already satisfied: scipy>=1.4.1 in /usr/local/lib/python3.10/dist-packages (from -r yolov5/requirements.txt (line 13)) (1.11.4)\n",
            "Collecting thop>=0.1.1 (from -r yolov5/requirements.txt (line 14))\n",
            "  Downloading thop-0.1.1.post2209072238-py3-none-any.whl (15 kB)\n",
            "Requirement already satisfied: torch>=1.8.0 in /usr/local/lib/python3.10/dist-packages (from -r yolov5/requirements.txt (line 15)) (2.2.1+cu121)\n",
            "Requirement already satisfied: torchvision>=0.9.0 in /usr/local/lib/python3.10/dist-packages (from -r yolov5/requirements.txt (line 16)) (0.17.1+cu121)\n",
            "Requirement already satisfied: tqdm>=4.64.0 in /usr/local/lib/python3.10/dist-packages (from -r yolov5/requirements.txt (line 17)) (4.66.2)\n",
            "Collecting ultralytics>=8.0.232 (from -r yolov5/requirements.txt (line 18))\n",
            "  Downloading ultralytics-8.1.42-py3-none-any.whl (749 kB)\n",
            "\u001b[2K     \u001b[90m━━━━━━━━━━━━━━━━━━━━━━━━━━━━━━━━━━━━━━━━\u001b[0m \u001b[32m749.1/749.1 kB\u001b[0m \u001b[31m15.4 MB/s\u001b[0m eta \u001b[36m0:00:00\u001b[0m\n",
            "\u001b[?25hRequirement already satisfied: pandas>=1.1.4 in /usr/local/lib/python3.10/dist-packages (from -r yolov5/requirements.txt (line 27)) (1.5.3)\n",
            "Requirement already satisfied: seaborn>=0.11.0 in /usr/local/lib/python3.10/dist-packages (from -r yolov5/requirements.txt (line 28)) (0.13.1)\n",
            "Requirement already satisfied: setuptools>=65.5.1 in /usr/local/lib/python3.10/dist-packages (from -r yolov5/requirements.txt (line 42)) (67.7.2)\n",
            "Requirement already satisfied: wheel>=0.38.0 in /usr/local/lib/python3.10/dist-packages (from -r yolov5/requirements.txt (line 50)) (0.43.0)\n",
            "Collecting gitdb<5,>=4.0.1 (from gitpython>=3.1.30->-r yolov5/requirements.txt (line 5))\n",
            "  Downloading gitdb-4.0.11-py3-none-any.whl (62 kB)\n",
            "\u001b[2K     \u001b[90m━━━━━━━━━━━━━━━━━━━━━━━━━━━━━━━━━━━━━━━━\u001b[0m \u001b[32m62.7/62.7 kB\u001b[0m \u001b[31m8.8 MB/s\u001b[0m eta \u001b[36m0:00:00\u001b[0m\n",
            "\u001b[?25hRequirement already satisfied: contourpy>=1.0.1 in /usr/local/lib/python3.10/dist-packages (from matplotlib>=3.3->-r yolov5/requirements.txt (line 6)) (1.2.0)\n",
            "Requirement already satisfied: cycler>=0.10 in /usr/local/lib/python3.10/dist-packages (from matplotlib>=3.3->-r yolov5/requirements.txt (line 6)) (0.12.1)\n",
            "Requirement already satisfied: fonttools>=4.22.0 in /usr/local/lib/python3.10/dist-packages (from matplotlib>=3.3->-r yolov5/requirements.txt (line 6)) (4.50.0)\n",
            "Requirement already satisfied: kiwisolver>=1.0.1 in /usr/local/lib/python3.10/dist-packages (from matplotlib>=3.3->-r yolov5/requirements.txt (line 6)) (1.4.5)\n",
            "Requirement already satisfied: packaging>=20.0 in /usr/local/lib/python3.10/dist-packages (from matplotlib>=3.3->-r yolov5/requirements.txt (line 6)) (24.0)\n",
            "Requirement already satisfied: pyparsing>=2.3.1 in /usr/local/lib/python3.10/dist-packages (from matplotlib>=3.3->-r yolov5/requirements.txt (line 6)) (3.1.2)\n",
            "Requirement already satisfied: python-dateutil>=2.7 in /usr/local/lib/python3.10/dist-packages (from matplotlib>=3.3->-r yolov5/requirements.txt (line 6)) (2.8.2)\n",
            "Requirement already satisfied: charset-normalizer<4,>=2 in /usr/local/lib/python3.10/dist-packages (from requests>=2.23.0->-r yolov5/requirements.txt (line 12)) (3.3.2)\n",
            "Requirement already satisfied: idna<4,>=2.5 in /usr/local/lib/python3.10/dist-packages (from requests>=2.23.0->-r yolov5/requirements.txt (line 12)) (3.6)\n",
            "Requirement already satisfied: urllib3<3,>=1.21.1 in /usr/local/lib/python3.10/dist-packages (from requests>=2.23.0->-r yolov5/requirements.txt (line 12)) (2.0.7)\n",
            "Requirement already satisfied: certifi>=2017.4.17 in /usr/local/lib/python3.10/dist-packages (from requests>=2.23.0->-r yolov5/requirements.txt (line 12)) (2024.2.2)\n",
            "Requirement already satisfied: filelock in /usr/local/lib/python3.10/dist-packages (from torch>=1.8.0->-r yolov5/requirements.txt (line 15)) (3.13.3)\n",
            "Requirement already satisfied: typing-extensions>=4.8.0 in /usr/local/lib/python3.10/dist-packages (from torch>=1.8.0->-r yolov5/requirements.txt (line 15)) (4.10.0)\n",
            "Requirement already satisfied: sympy in /usr/local/lib/python3.10/dist-packages (from torch>=1.8.0->-r yolov5/requirements.txt (line 15)) (1.12)\n",
            "Requirement already satisfied: networkx in /usr/local/lib/python3.10/dist-packages (from torch>=1.8.0->-r yolov5/requirements.txt (line 15)) (3.2.1)\n",
            "Requirement already satisfied: jinja2 in /usr/local/lib/python3.10/dist-packages (from torch>=1.8.0->-r yolov5/requirements.txt (line 15)) (3.1.3)\n",
            "Requirement already satisfied: fsspec in /usr/local/lib/python3.10/dist-packages (from torch>=1.8.0->-r yolov5/requirements.txt (line 15)) (2023.6.0)\n",
            "Collecting nvidia-cuda-nvrtc-cu12==12.1.105 (from torch>=1.8.0->-r yolov5/requirements.txt (line 15))\n",
            "  Downloading nvidia_cuda_nvrtc_cu12-12.1.105-py3-none-manylinux1_x86_64.whl (23.7 MB)\n",
            "\u001b[2K     \u001b[90m━━━━━━━━━━━━━━━━━━━━━━━━━━━━━━━━━━━━━━━━\u001b[0m \u001b[32m23.7/23.7 MB\u001b[0m \u001b[31m59.4 MB/s\u001b[0m eta \u001b[36m0:00:00\u001b[0m\n",
            "\u001b[?25hCollecting nvidia-cuda-runtime-cu12==12.1.105 (from torch>=1.8.0->-r yolov5/requirements.txt (line 15))\n",
            "  Downloading nvidia_cuda_runtime_cu12-12.1.105-py3-none-manylinux1_x86_64.whl (823 kB)\n",
            "\u001b[2K     \u001b[90m━━━━━━━━━━━━━━━━━━━━━━━━━━━━━━━━━━━━━━━━\u001b[0m \u001b[32m823.6/823.6 kB\u001b[0m \u001b[31m67.5 MB/s\u001b[0m eta \u001b[36m0:00:00\u001b[0m\n",
            "\u001b[?25hCollecting nvidia-cuda-cupti-cu12==12.1.105 (from torch>=1.8.0->-r yolov5/requirements.txt (line 15))\n",
            "  Downloading nvidia_cuda_cupti_cu12-12.1.105-py3-none-manylinux1_x86_64.whl (14.1 MB)\n",
            "\u001b[2K     \u001b[90m━━━━━━━━━━━━━━━━━━━━━━━━━━━━━━━━━━━━━━━━\u001b[0m \u001b[32m14.1/14.1 MB\u001b[0m \u001b[31m88.4 MB/s\u001b[0m eta \u001b[36m0:00:00\u001b[0m\n",
            "\u001b[?25hCollecting nvidia-cudnn-cu12==8.9.2.26 (from torch>=1.8.0->-r yolov5/requirements.txt (line 15))\n",
            "  Downloading nvidia_cudnn_cu12-8.9.2.26-py3-none-manylinux1_x86_64.whl (731.7 MB)\n",
            "\u001b[2K     \u001b[90m━━━━━━━━━━━━━━━━━━━━━━━━━━━━━━━━━━━━━━━━\u001b[0m \u001b[32m731.7/731.7 MB\u001b[0m \u001b[31m2.3 MB/s\u001b[0m eta \u001b[36m0:00:00\u001b[0m\n",
            "\u001b[?25hCollecting nvidia-cublas-cu12==12.1.3.1 (from torch>=1.8.0->-r yolov5/requirements.txt (line 15))\n",
            "  Downloading nvidia_cublas_cu12-12.1.3.1-py3-none-manylinux1_x86_64.whl (410.6 MB)\n",
            "\u001b[2K     \u001b[90m━━━━━━━━━━━━━━━━━━━━━━━━━━━━━━━━━━━━━━━━\u001b[0m \u001b[32m410.6/410.6 MB\u001b[0m \u001b[31m2.9 MB/s\u001b[0m eta \u001b[36m0:00:00\u001b[0m\n",
            "\u001b[?25hCollecting nvidia-cufft-cu12==11.0.2.54 (from torch>=1.8.0->-r yolov5/requirements.txt (line 15))\n",
            "  Downloading nvidia_cufft_cu12-11.0.2.54-py3-none-manylinux1_x86_64.whl (121.6 MB)\n",
            "\u001b[2K     \u001b[90m━━━━━━━━━━━━━━━━━━━━━━━━━━━━━━━━━━━━━━━━\u001b[0m \u001b[32m121.6/121.6 MB\u001b[0m \u001b[31m8.0 MB/s\u001b[0m eta \u001b[36m0:00:00\u001b[0m\n",
            "\u001b[?25hCollecting nvidia-curand-cu12==10.3.2.106 (from torch>=1.8.0->-r yolov5/requirements.txt (line 15))\n",
            "  Downloading nvidia_curand_cu12-10.3.2.106-py3-none-manylinux1_x86_64.whl (56.5 MB)\n",
            "\u001b[2K     \u001b[90m━━━━━━━━━━━━━━━━━━━━━━━━━━━━━━━━━━━━━━━━\u001b[0m \u001b[32m56.5/56.5 MB\u001b[0m \u001b[31m13.1 MB/s\u001b[0m eta \u001b[36m0:00:00\u001b[0m\n",
            "\u001b[?25hCollecting nvidia-cusolver-cu12==11.4.5.107 (from torch>=1.8.0->-r yolov5/requirements.txt (line 15))\n",
            "  Downloading nvidia_cusolver_cu12-11.4.5.107-py3-none-manylinux1_x86_64.whl (124.2 MB)\n",
            "\u001b[2K     \u001b[90m━━━━━━━━━━━━━━━━━━━━━━━━━━━━━━━━━━━━━━━━\u001b[0m \u001b[32m124.2/124.2 MB\u001b[0m \u001b[31m8.2 MB/s\u001b[0m eta \u001b[36m0:00:00\u001b[0m\n",
            "\u001b[?25hCollecting nvidia-cusparse-cu12==12.1.0.106 (from torch>=1.8.0->-r yolov5/requirements.txt (line 15))\n",
            "  Downloading nvidia_cusparse_cu12-12.1.0.106-py3-none-manylinux1_x86_64.whl (196.0 MB)\n",
            "\u001b[2K     \u001b[90m━━━━━━━━━━━━━━━━━━━━━━━━━━━━━━━━━━━━━━━━\u001b[0m \u001b[32m196.0/196.0 MB\u001b[0m \u001b[31m6.4 MB/s\u001b[0m eta \u001b[36m0:00:00\u001b[0m\n",
            "\u001b[?25hCollecting nvidia-nccl-cu12==2.19.3 (from torch>=1.8.0->-r yolov5/requirements.txt (line 15))\n",
            "  Downloading nvidia_nccl_cu12-2.19.3-py3-none-manylinux1_x86_64.whl (166.0 MB)\n",
            "\u001b[2K     \u001b[90m━━━━━━━━━━━━━━━━━━━━━━━━━━━━━━━━━━━━━━━━\u001b[0m \u001b[32m166.0/166.0 MB\u001b[0m \u001b[31m7.3 MB/s\u001b[0m eta \u001b[36m0:00:00\u001b[0m\n",
            "\u001b[?25hCollecting nvidia-nvtx-cu12==12.1.105 (from torch>=1.8.0->-r yolov5/requirements.txt (line 15))\n",
            "  Downloading nvidia_nvtx_cu12-12.1.105-py3-none-manylinux1_x86_64.whl (99 kB)\n",
            "\u001b[2K     \u001b[90m━━━━━━━━━━━━━━━━━━━━━━━━━━━━━━━━━━━━━━━━\u001b[0m \u001b[32m99.1/99.1 kB\u001b[0m \u001b[31m13.5 MB/s\u001b[0m eta \u001b[36m0:00:00\u001b[0m\n",
            "\u001b[?25hRequirement already satisfied: triton==2.2.0 in /usr/local/lib/python3.10/dist-packages (from torch>=1.8.0->-r yolov5/requirements.txt (line 15)) (2.2.0)\n",
            "Collecting nvidia-nvjitlink-cu12 (from nvidia-cusolver-cu12==11.4.5.107->torch>=1.8.0->-r yolov5/requirements.txt (line 15))\n",
            "  Downloading nvidia_nvjitlink_cu12-12.4.99-py3-none-manylinux2014_x86_64.whl (21.1 MB)\n",
            "\u001b[2K     \u001b[90m━━━━━━━━━━━━━━━━━━━━━━━━━━━━━━━━━━━━━━━━\u001b[0m \u001b[32m21.1/21.1 MB\u001b[0m \u001b[31m77.2 MB/s\u001b[0m eta \u001b[36m0:00:00\u001b[0m\n",
            "\u001b[?25hRequirement already satisfied: py-cpuinfo in /usr/local/lib/python3.10/dist-packages (from ultralytics>=8.0.232->-r yolov5/requirements.txt (line 18)) (9.0.0)\n",
            "Requirement already satisfied: pytz>=2020.1 in /usr/local/lib/python3.10/dist-packages (from pandas>=1.1.4->-r yolov5/requirements.txt (line 27)) (2023.4)\n",
            "Collecting smmap<6,>=3.0.1 (from gitdb<5,>=4.0.1->gitpython>=3.1.30->-r yolov5/requirements.txt (line 5))\n",
            "  Downloading smmap-5.0.1-py3-none-any.whl (24 kB)\n",
            "Requirement already satisfied: six>=1.5 in /usr/local/lib/python3.10/dist-packages (from python-dateutil>=2.7->matplotlib>=3.3->-r yolov5/requirements.txt (line 6)) (1.16.0)\n",
            "Requirement already satisfied: MarkupSafe>=2.0 in /usr/local/lib/python3.10/dist-packages (from jinja2->torch>=1.8.0->-r yolov5/requirements.txt (line 15)) (2.1.5)\n",
            "Requirement already satisfied: mpmath>=0.19 in /usr/local/lib/python3.10/dist-packages (from sympy->torch>=1.8.0->-r yolov5/requirements.txt (line 15)) (1.3.0)\n",
            "Installing collected packages: smmap, nvidia-nvtx-cu12, nvidia-nvjitlink-cu12, nvidia-nccl-cu12, nvidia-curand-cu12, nvidia-cufft-cu12, nvidia-cuda-runtime-cu12, nvidia-cuda-nvrtc-cu12, nvidia-cuda-cupti-cu12, nvidia-cublas-cu12, nvidia-cusparse-cu12, nvidia-cudnn-cu12, gitdb, nvidia-cusolver-cu12, gitpython, thop, ultralytics\n",
            "Successfully installed gitdb-4.0.11 gitpython-3.1.43 nvidia-cublas-cu12-12.1.3.1 nvidia-cuda-cupti-cu12-12.1.105 nvidia-cuda-nvrtc-cu12-12.1.105 nvidia-cuda-runtime-cu12-12.1.105 nvidia-cudnn-cu12-8.9.2.26 nvidia-cufft-cu12-11.0.2.54 nvidia-curand-cu12-10.3.2.106 nvidia-cusolver-cu12-11.4.5.107 nvidia-cusparse-cu12-12.1.0.106 nvidia-nccl-cu12-2.19.3 nvidia-nvjitlink-cu12-12.4.99 nvidia-nvtx-cu12-12.1.105 smmap-5.0.1 thop-0.1.1.post2209072238 ultralytics-8.1.42\n"
          ]
        }
      ]
    },
    {
      "cell_type": "code",
      "metadata": {
        "id": "NdMextQgAKGI",
        "colab": {
          "base_uri": "https://localhost:8080/"
        },
        "outputId": "2e0457d3-25bd-4268-c1f2-11236841a0a9"
      },
      "source": [
        "%cd yolov5"
      ],
      "execution_count": null,
      "outputs": [
        {
          "output_type": "stream",
          "name": "stdout",
          "text": [
            "/content/yolov5\n"
          ]
        }
      ]
    },
    {
      "cell_type": "markdown",
      "metadata": {
        "id": "gowiqRJTHLHT"
      },
      "source": [
        "## Upload the testing video file"
      ]
    },
    {
      "cell_type": "code",
      "metadata": {
        "id": "ba1kDZN8BPGb",
        "colab": {
          "base_uri": "https://localhost:8080/",
          "height": 73
        },
        "outputId": "4e08a89b-1a55-4775-b16f-3efbe7142ee4"
      },
      "source": [
        "from google.colab import files\n",
        "uploaded = files.upload()"
      ],
      "execution_count": null,
      "outputs": [
        {
          "output_type": "display_data",
          "data": {
            "text/plain": [
              "<IPython.core.display.HTML object>"
            ],
            "text/html": [
              "\n",
              "     <input type=\"file\" id=\"files-ea003df6-6c98-4746-80bc-c7e2365adf2d\" name=\"files[]\" multiple disabled\n",
              "        style=\"border:none\" />\n",
              "     <output id=\"result-ea003df6-6c98-4746-80bc-c7e2365adf2d\">\n",
              "      Upload widget is only available when the cell has been executed in the\n",
              "      current browser session. Please rerun this cell to enable.\n",
              "      </output>\n",
              "      <script>// Copyright 2017 Google LLC\n",
              "//\n",
              "// Licensed under the Apache License, Version 2.0 (the \"License\");\n",
              "// you may not use this file except in compliance with the License.\n",
              "// You may obtain a copy of the License at\n",
              "//\n",
              "//      http://www.apache.org/licenses/LICENSE-2.0\n",
              "//\n",
              "// Unless required by applicable law or agreed to in writing, software\n",
              "// distributed under the License is distributed on an \"AS IS\" BASIS,\n",
              "// WITHOUT WARRANTIES OR CONDITIONS OF ANY KIND, either express or implied.\n",
              "// See the License for the specific language governing permissions and\n",
              "// limitations under the License.\n",
              "\n",
              "/**\n",
              " * @fileoverview Helpers for google.colab Python module.\n",
              " */\n",
              "(function(scope) {\n",
              "function span(text, styleAttributes = {}) {\n",
              "  const element = document.createElement('span');\n",
              "  element.textContent = text;\n",
              "  for (const key of Object.keys(styleAttributes)) {\n",
              "    element.style[key] = styleAttributes[key];\n",
              "  }\n",
              "  return element;\n",
              "}\n",
              "\n",
              "// Max number of bytes which will be uploaded at a time.\n",
              "const MAX_PAYLOAD_SIZE = 100 * 1024;\n",
              "\n",
              "function _uploadFiles(inputId, outputId) {\n",
              "  const steps = uploadFilesStep(inputId, outputId);\n",
              "  const outputElement = document.getElementById(outputId);\n",
              "  // Cache steps on the outputElement to make it available for the next call\n",
              "  // to uploadFilesContinue from Python.\n",
              "  outputElement.steps = steps;\n",
              "\n",
              "  return _uploadFilesContinue(outputId);\n",
              "}\n",
              "\n",
              "// This is roughly an async generator (not supported in the browser yet),\n",
              "// where there are multiple asynchronous steps and the Python side is going\n",
              "// to poll for completion of each step.\n",
              "// This uses a Promise to block the python side on completion of each step,\n",
              "// then passes the result of the previous step as the input to the next step.\n",
              "function _uploadFilesContinue(outputId) {\n",
              "  const outputElement = document.getElementById(outputId);\n",
              "  const steps = outputElement.steps;\n",
              "\n",
              "  const next = steps.next(outputElement.lastPromiseValue);\n",
              "  return Promise.resolve(next.value.promise).then((value) => {\n",
              "    // Cache the last promise value to make it available to the next\n",
              "    // step of the generator.\n",
              "    outputElement.lastPromiseValue = value;\n",
              "    return next.value.response;\n",
              "  });\n",
              "}\n",
              "\n",
              "/**\n",
              " * Generator function which is called between each async step of the upload\n",
              " * process.\n",
              " * @param {string} inputId Element ID of the input file picker element.\n",
              " * @param {string} outputId Element ID of the output display.\n",
              " * @return {!Iterable<!Object>} Iterable of next steps.\n",
              " */\n",
              "function* uploadFilesStep(inputId, outputId) {\n",
              "  const inputElement = document.getElementById(inputId);\n",
              "  inputElement.disabled = false;\n",
              "\n",
              "  const outputElement = document.getElementById(outputId);\n",
              "  outputElement.innerHTML = '';\n",
              "\n",
              "  const pickedPromise = new Promise((resolve) => {\n",
              "    inputElement.addEventListener('change', (e) => {\n",
              "      resolve(e.target.files);\n",
              "    });\n",
              "  });\n",
              "\n",
              "  const cancel = document.createElement('button');\n",
              "  inputElement.parentElement.appendChild(cancel);\n",
              "  cancel.textContent = 'Cancel upload';\n",
              "  const cancelPromise = new Promise((resolve) => {\n",
              "    cancel.onclick = () => {\n",
              "      resolve(null);\n",
              "    };\n",
              "  });\n",
              "\n",
              "  // Wait for the user to pick the files.\n",
              "  const files = yield {\n",
              "    promise: Promise.race([pickedPromise, cancelPromise]),\n",
              "    response: {\n",
              "      action: 'starting',\n",
              "    }\n",
              "  };\n",
              "\n",
              "  cancel.remove();\n",
              "\n",
              "  // Disable the input element since further picks are not allowed.\n",
              "  inputElement.disabled = true;\n",
              "\n",
              "  if (!files) {\n",
              "    return {\n",
              "      response: {\n",
              "        action: 'complete',\n",
              "      }\n",
              "    };\n",
              "  }\n",
              "\n",
              "  for (const file of files) {\n",
              "    const li = document.createElement('li');\n",
              "    li.append(span(file.name, {fontWeight: 'bold'}));\n",
              "    li.append(span(\n",
              "        `(${file.type || 'n/a'}) - ${file.size} bytes, ` +\n",
              "        `last modified: ${\n",
              "            file.lastModifiedDate ? file.lastModifiedDate.toLocaleDateString() :\n",
              "                                    'n/a'} - `));\n",
              "    const percent = span('0% done');\n",
              "    li.appendChild(percent);\n",
              "\n",
              "    outputElement.appendChild(li);\n",
              "\n",
              "    const fileDataPromise = new Promise((resolve) => {\n",
              "      const reader = new FileReader();\n",
              "      reader.onload = (e) => {\n",
              "        resolve(e.target.result);\n",
              "      };\n",
              "      reader.readAsArrayBuffer(file);\n",
              "    });\n",
              "    // Wait for the data to be ready.\n",
              "    let fileData = yield {\n",
              "      promise: fileDataPromise,\n",
              "      response: {\n",
              "        action: 'continue',\n",
              "      }\n",
              "    };\n",
              "\n",
              "    // Use a chunked sending to avoid message size limits. See b/62115660.\n",
              "    let position = 0;\n",
              "    do {\n",
              "      const length = Math.min(fileData.byteLength - position, MAX_PAYLOAD_SIZE);\n",
              "      const chunk = new Uint8Array(fileData, position, length);\n",
              "      position += length;\n",
              "\n",
              "      const base64 = btoa(String.fromCharCode.apply(null, chunk));\n",
              "      yield {\n",
              "        response: {\n",
              "          action: 'append',\n",
              "          file: file.name,\n",
              "          data: base64,\n",
              "        },\n",
              "      };\n",
              "\n",
              "      let percentDone = fileData.byteLength === 0 ?\n",
              "          100 :\n",
              "          Math.round((position / fileData.byteLength) * 100);\n",
              "      percent.textContent = `${percentDone}% done`;\n",
              "\n",
              "    } while (position < fileData.byteLength);\n",
              "  }\n",
              "\n",
              "  // All done.\n",
              "  yield {\n",
              "    response: {\n",
              "      action: 'complete',\n",
              "    }\n",
              "  };\n",
              "}\n",
              "\n",
              "scope.google = scope.google || {};\n",
              "scope.google.colab = scope.google.colab || {};\n",
              "scope.google.colab._files = {\n",
              "  _uploadFiles,\n",
              "  _uploadFilesContinue,\n",
              "};\n",
              "})(self);\n",
              "</script> "
            ]
          },
          "metadata": {}
        },
        {
          "output_type": "stream",
          "name": "stdout",
          "text": [
            "Saving trafficmini.mp4 to trafficmini.mp4\n"
          ]
        }
      ]
    },
    {
      "cell_type": "markdown",
      "metadata": {
        "id": "bxp-hukpHU7a"
      },
      "source": [
        "## Implement Detection on testing video file"
      ]
    },
    {
      "cell_type": "code",
      "metadata": {
        "id": "G_-fh7SwAVtG",
        "colab": {
          "base_uri": "https://localhost:8080/"
        },
        "outputId": "74a813df-d59c-43ec-d717-303a68343b61"
      },
      "source": [
        "!python detect.py --source trafficmini.mp4"
      ],
      "execution_count": null,
      "outputs": [
        {
          "output_type": "stream",
          "name": "stdout",
          "text": [
            "\u001b[34m\u001b[1mdetect: \u001b[0mweights=yolov5s.pt, source=trafficmini.mp4, data=data/coco128.yaml, imgsz=[640, 640], conf_thres=0.25, iou_thres=0.45, max_det=1000, device=, view_img=False, save_txt=False, save_csv=False, save_conf=False, save_crop=False, nosave=False, classes=None, agnostic_nms=False, augment=False, visualize=False, update=False, project=runs/detect, name=exp, exist_ok=False, line_thickness=3, hide_labels=False, hide_conf=False, half=False, dnn=False, vid_stride=1\n",
            "YOLOv5 🚀 v7.0-295-gac6c4383 Python-3.10.12 torch-2.2.1+cu121 CUDA:0 (Tesla T4, 15102MiB)\n",
            "\n",
            "Fusing layers... \n",
            "YOLOv5s summary: 213 layers, 7225885 parameters, 0 gradients, 16.4 GFLOPs\n",
            "video 1/1 (1/179) /content/yolov5/trafficmini.mp4: 384x640 10 persons, 9 cars, 3 motorcycles, 7 buss, 51.4ms\n",
            "video 1/1 (2/179) /content/yolov5/trafficmini.mp4: 384x640 10 persons, 9 cars, 3 motorcycles, 7 buss, 8.0ms\n",
            "video 1/1 (3/179) /content/yolov5/trafficmini.mp4: 384x640 10 persons, 9 cars, 3 motorcycles, 6 buss, 10.1ms\n",
            "video 1/1 (4/179) /content/yolov5/trafficmini.mp4: 384x640 10 persons, 11 cars, 3 motorcycles, 6 buss, 7.9ms\n",
            "video 1/1 (5/179) /content/yolov5/trafficmini.mp4: 384x640 12 persons, 1 bicycle, 10 cars, 2 motorcycles, 6 buss, 1 traffic light, 7.9ms\n",
            "video 1/1 (6/179) /content/yolov5/trafficmini.mp4: 384x640 12 persons, 1 bicycle, 10 cars, 2 motorcycles, 6 buss, 1 traffic light, 7.9ms\n",
            "video 1/1 (7/179) /content/yolov5/trafficmini.mp4: 384x640 12 persons, 1 bicycle, 10 cars, 2 motorcycles, 7 buss, 7.9ms\n",
            "video 1/1 (8/179) /content/yolov5/trafficmini.mp4: 384x640 11 persons, 1 bicycle, 10 cars, 2 motorcycles, 7 buss, 7.9ms\n",
            "video 1/1 (9/179) /content/yolov5/trafficmini.mp4: 384x640 10 persons, 1 bicycle, 10 cars, 2 motorcycles, 7 buss, 7.9ms\n",
            "video 1/1 (10/179) /content/yolov5/trafficmini.mp4: 384x640 11 persons, 2 bicycles, 11 cars, 2 motorcycles, 7 buss, 7.9ms\n",
            "video 1/1 (11/179) /content/yolov5/trafficmini.mp4: 384x640 11 persons, 1 bicycle, 11 cars, 2 motorcycles, 7 buss, 7.9ms\n",
            "video 1/1 (12/179) /content/yolov5/trafficmini.mp4: 384x640 11 persons, 1 bicycle, 11 cars, 2 motorcycles, 7 buss, 8.7ms\n",
            "video 1/1 (13/179) /content/yolov5/trafficmini.mp4: 384x640 12 persons, 2 bicycles, 11 cars, 2 motorcycles, 9 buss, 7.9ms\n",
            "video 1/1 (14/179) /content/yolov5/trafficmini.mp4: 384x640 12 persons, 2 bicycles, 11 cars, 2 motorcycles, 8 buss, 7.9ms\n",
            "video 1/1 (15/179) /content/yolov5/trafficmini.mp4: 384x640 14 persons, 2 bicycles, 11 cars, 2 motorcycles, 6 buss, 7.9ms\n",
            "video 1/1 (16/179) /content/yolov5/trafficmini.mp4: 384x640 12 persons, 2 bicycles, 11 cars, 2 motorcycles, 6 buss, 7.9ms\n",
            "video 1/1 (17/179) /content/yolov5/trafficmini.mp4: 384x640 13 persons, 2 bicycles, 11 cars, 2 motorcycles, 7 buss, 7.9ms\n",
            "video 1/1 (18/179) /content/yolov5/trafficmini.mp4: 384x640 13 persons, 2 bicycles, 11 cars, 2 motorcycles, 7 buss, 7.9ms\n",
            "video 1/1 (19/179) /content/yolov5/trafficmini.mp4: 384x640 12 persons, 1 bicycle, 10 cars, 2 motorcycles, 8 buss, 7.9ms\n",
            "video 1/1 (20/179) /content/yolov5/trafficmini.mp4: 384x640 13 persons, 2 bicycles, 12 cars, 2 motorcycles, 6 buss, 7.9ms\n",
            "video 1/1 (21/179) /content/yolov5/trafficmini.mp4: 384x640 13 persons, 1 bicycle, 11 cars, 2 motorcycles, 6 buss, 7.9ms\n",
            "video 1/1 (22/179) /content/yolov5/trafficmini.mp4: 384x640 12 persons, 1 bicycle, 13 cars, 2 motorcycles, 6 buss, 9.5ms\n",
            "video 1/1 (23/179) /content/yolov5/trafficmini.mp4: 384x640 13 persons, 1 bicycle, 12 cars, 1 motorcycle, 6 buss, 7.9ms\n",
            "video 1/1 (24/179) /content/yolov5/trafficmini.mp4: 384x640 13 persons, 1 bicycle, 12 cars, 1 motorcycle, 6 buss, 7.9ms\n",
            "video 1/1 (25/179) /content/yolov5/trafficmini.mp4: 384x640 14 persons, 1 bicycle, 10 cars, 2 motorcycles, 6 buss, 1 traffic light, 8.2ms\n",
            "video 1/1 (26/179) /content/yolov5/trafficmini.mp4: 384x640 13 persons, 1 bicycle, 11 cars, 2 motorcycles, 6 buss, 1 traffic light, 7.9ms\n",
            "video 1/1 (27/179) /content/yolov5/trafficmini.mp4: 384x640 13 persons, 9 cars, 2 motorcycles, 6 buss, 7.9ms\n",
            "video 1/1 (28/179) /content/yolov5/trafficmini.mp4: 384x640 13 persons, 1 bicycle, 8 cars, 2 motorcycles, 6 buss, 7.9ms\n",
            "video 1/1 (29/179) /content/yolov5/trafficmini.mp4: 384x640 13 persons, 1 bicycle, 10 cars, 2 motorcycles, 6 buss, 7.9ms\n",
            "video 1/1 (30/179) /content/yolov5/trafficmini.mp4: 384x640 13 persons, 1 bicycle, 10 cars, 2 motorcycles, 6 buss, 7.9ms\n",
            "video 1/1 (31/179) /content/yolov5/trafficmini.mp4: 384x640 12 persons, 2 bicycles, 9 cars, 2 motorcycles, 6 buss, 7.9ms\n",
            "video 1/1 (32/179) /content/yolov5/trafficmini.mp4: 384x640 11 persons, 1 bicycle, 10 cars, 2 motorcycles, 6 buss, 7.9ms\n",
            "video 1/1 (33/179) /content/yolov5/trafficmini.mp4: 384x640 10 persons, 1 bicycle, 9 cars, 1 motorcycle, 6 buss, 7.9ms\n",
            "video 1/1 (34/179) /content/yolov5/trafficmini.mp4: 384x640 11 persons, 1 bicycle, 9 cars, 2 motorcycles, 6 buss, 7.9ms\n",
            "video 1/1 (35/179) /content/yolov5/trafficmini.mp4: 384x640 11 persons, 1 bicycle, 11 cars, 1 motorcycle, 6 buss, 7.9ms\n",
            "video 1/1 (36/179) /content/yolov5/trafficmini.mp4: 384x640 11 persons, 1 bicycle, 11 cars, 1 motorcycle, 6 buss, 1 traffic light, 7.9ms\n",
            "video 1/1 (37/179) /content/yolov5/trafficmini.mp4: 384x640 10 persons, 1 bicycle, 11 cars, 1 motorcycle, 6 buss, 8.1ms\n",
            "video 1/1 (38/179) /content/yolov5/trafficmini.mp4: 384x640 9 persons, 1 bicycle, 10 cars, 6 buss, 7.9ms\n",
            "video 1/1 (39/179) /content/yolov5/trafficmini.mp4: 384x640 11 persons, 3 bicycles, 12 cars, 6 buss, 7.9ms\n",
            "video 1/1 (40/179) /content/yolov5/trafficmini.mp4: 384x640 10 persons, 3 bicycles, 11 cars, 6 buss, 7.9ms\n",
            "video 1/1 (41/179) /content/yolov5/trafficmini.mp4: 384x640 11 persons, 3 bicycles, 13 cars, 6 buss, 7.9ms\n",
            "video 1/1 (42/179) /content/yolov5/trafficmini.mp4: 384x640 12 persons, 3 bicycles, 14 cars, 6 buss, 7.9ms\n",
            "video 1/1 (43/179) /content/yolov5/trafficmini.mp4: 384x640 13 persons, 2 bicycles, 13 cars, 6 buss, 8.1ms\n",
            "video 1/1 (44/179) /content/yolov5/trafficmini.mp4: 384x640 9 persons, 3 bicycles, 11 cars, 6 buss, 1 traffic light, 7.9ms\n",
            "video 1/1 (45/179) /content/yolov5/trafficmini.mp4: 384x640 11 persons, 2 bicycles, 13 cars, 7 buss, 1 traffic light, 7.9ms\n",
            "video 1/1 (46/179) /content/yolov5/trafficmini.mp4: 384x640 10 persons, 2 bicycles, 13 cars, 6 buss, 1 traffic light, 7.9ms\n",
            "video 1/1 (47/179) /content/yolov5/trafficmini.mp4: 384x640 11 persons, 2 bicycles, 12 cars, 7 buss, 1 traffic light, 7.9ms\n",
            "video 1/1 (48/179) /content/yolov5/trafficmini.mp4: 384x640 11 persons, 2 bicycles, 12 cars, 7 buss, 1 traffic light, 7.9ms\n",
            "video 1/1 (49/179) /content/yolov5/trafficmini.mp4: 384x640 11 persons, 2 bicycles, 15 cars, 7 buss, 1 traffic light, 7.9ms\n",
            "video 1/1 (50/179) /content/yolov5/trafficmini.mp4: 384x640 10 persons, 2 bicycles, 11 cars, 7 buss, 1 traffic light, 7.9ms\n",
            "video 1/1 (51/179) /content/yolov5/trafficmini.mp4: 384x640 11 persons, 2 bicycles, 10 cars, 7 buss, 1 traffic light, 7.9ms\n",
            "video 1/1 (52/179) /content/yolov5/trafficmini.mp4: 384x640 11 persons, 2 bicycles, 10 cars, 1 motorcycle, 7 buss, 1 traffic light, 7.9ms\n",
            "video 1/1 (53/179) /content/yolov5/trafficmini.mp4: 384x640 11 persons, 2 bicycles, 11 cars, 1 motorcycle, 7 buss, 1 traffic light, 7.9ms\n",
            "video 1/1 (54/179) /content/yolov5/trafficmini.mp4: 384x640 11 persons, 2 bicycles, 12 cars, 1 motorcycle, 7 buss, 1 traffic light, 9.1ms\n",
            "video 1/1 (55/179) /content/yolov5/trafficmini.mp4: 384x640 11 persons, 2 bicycles, 11 cars, 7 buss, 1 traffic light, 7.9ms\n",
            "video 1/1 (56/179) /content/yolov5/trafficmini.mp4: 384x640 12 persons, 2 bicycles, 13 cars, 7 buss, 1 traffic light, 7.9ms\n",
            "video 1/1 (57/179) /content/yolov5/trafficmini.mp4: 384x640 11 persons, 2 bicycles, 12 cars, 7 buss, 7.9ms\n",
            "video 1/1 (58/179) /content/yolov5/trafficmini.mp4: 384x640 9 persons, 2 bicycles, 9 cars, 7 buss, 1 traffic light, 7.9ms\n",
            "video 1/1 (59/179) /content/yolov5/trafficmini.mp4: 384x640 8 persons, 2 bicycles, 10 cars, 7 buss, 7.9ms\n",
            "video 1/1 (60/179) /content/yolov5/trafficmini.mp4: 384x640 8 persons, 2 bicycles, 10 cars, 7 buss, 1 traffic light, 7.9ms\n",
            "video 1/1 (61/179) /content/yolov5/trafficmini.mp4: 384x640 8 persons, 2 bicycles, 10 cars, 7 buss, 7.9ms\n",
            "video 1/1 (62/179) /content/yolov5/trafficmini.mp4: 384x640 9 persons, 2 bicycles, 10 cars, 7 buss, 1 traffic light, 7.9ms\n",
            "video 1/1 (63/179) /content/yolov5/trafficmini.mp4: 384x640 10 persons, 2 bicycles, 11 cars, 7 buss, 7.9ms\n",
            "video 1/1 (64/179) /content/yolov5/trafficmini.mp4: 384x640 8 persons, 2 bicycles, 10 cars, 6 buss, 7.9ms\n",
            "video 1/1 (65/179) /content/yolov5/trafficmini.mp4: 384x640 8 persons, 2 bicycles, 11 cars, 6 buss, 8.7ms\n",
            "video 1/1 (66/179) /content/yolov5/trafficmini.mp4: 384x640 8 persons, 2 bicycles, 11 cars, 7 buss, 7.9ms\n",
            "video 1/1 (67/179) /content/yolov5/trafficmini.mp4: 384x640 7 persons, 2 bicycles, 11 cars, 7 buss, 7.9ms\n",
            "video 1/1 (68/179) /content/yolov5/trafficmini.mp4: 384x640 9 persons, 2 bicycles, 10 cars, 6 buss, 7.9ms\n",
            "video 1/1 (69/179) /content/yolov5/trafficmini.mp4: 384x640 10 persons, 2 bicycles, 10 cars, 6 buss, 7.9ms\n",
            "video 1/1 (70/179) /content/yolov5/trafficmini.mp4: 384x640 10 persons, 2 bicycles, 10 cars, 6 buss, 7.9ms\n",
            "video 1/1 (71/179) /content/yolov5/trafficmini.mp4: 384x640 8 persons, 2 bicycles, 11 cars, 6 buss, 7.9ms\n",
            "video 1/1 (72/179) /content/yolov5/trafficmini.mp4: 384x640 8 persons, 2 bicycles, 11 cars, 6 buss, 8.0ms\n",
            "video 1/1 (73/179) /content/yolov5/trafficmini.mp4: 384x640 8 persons, 2 bicycles, 12 cars, 6 buss, 8.0ms\n",
            "video 1/1 (74/179) /content/yolov5/trafficmini.mp4: 384x640 9 persons, 2 bicycles, 11 cars, 5 buss, 12.0ms\n",
            "video 1/1 (75/179) /content/yolov5/trafficmini.mp4: 384x640 9 persons, 2 bicycles, 10 cars, 6 buss, 7.9ms\n",
            "video 1/1 (76/179) /content/yolov5/trafficmini.mp4: 384x640 9 persons, 2 bicycles, 10 cars, 7 buss, 7.9ms\n",
            "video 1/1 (77/179) /content/yolov5/trafficmini.mp4: 384x640 8 persons, 2 bicycles, 10 cars, 8 buss, 7.9ms\n",
            "video 1/1 (78/179) /content/yolov5/trafficmini.mp4: 384x640 8 persons, 2 bicycles, 10 cars, 8 buss, 7.9ms\n",
            "video 1/1 (79/179) /content/yolov5/trafficmini.mp4: 384x640 8 persons, 2 bicycles, 11 cars, 9 buss, 7.9ms\n",
            "video 1/1 (80/179) /content/yolov5/trafficmini.mp4: 384x640 9 persons, 2 bicycles, 12 cars, 8 buss, 7.9ms\n",
            "video 1/1 (81/179) /content/yolov5/trafficmini.mp4: 384x640 9 persons, 2 bicycles, 11 cars, 8 buss, 7.9ms\n",
            "video 1/1 (82/179) /content/yolov5/trafficmini.mp4: 384x640 9 persons, 2 bicycles, 9 cars, 7 buss, 7.9ms\n",
            "video 1/1 (83/179) /content/yolov5/trafficmini.mp4: 384x640 8 persons, 2 bicycles, 8 cars, 7 buss, 7.9ms\n",
            "video 1/1 (84/179) /content/yolov5/trafficmini.mp4: 384x640 10 persons, 2 bicycles, 8 cars, 7 buss, 7.9ms\n",
            "video 1/1 (85/179) /content/yolov5/trafficmini.mp4: 384x640 10 persons, 2 bicycles, 8 cars, 8 buss, 7.9ms\n",
            "video 1/1 (86/179) /content/yolov5/trafficmini.mp4: 384x640 9 persons, 2 bicycles, 9 cars, 7 buss, 7.9ms\n",
            "video 1/1 (87/179) /content/yolov5/trafficmini.mp4: 384x640 8 persons, 2 bicycles, 9 cars, 7 buss, 9.5ms\n",
            "video 1/1 (88/179) /content/yolov5/trafficmini.mp4: 384x640 8 persons, 2 bicycles, 9 cars, 6 buss, 7.9ms\n",
            "video 1/1 (89/179) /content/yolov5/trafficmini.mp4: 384x640 9 persons, 2 bicycles, 8 cars, 6 buss, 7.9ms\n",
            "video 1/1 (90/179) /content/yolov5/trafficmini.mp4: 384x640 10 persons, 2 bicycles, 9 cars, 6 buss, 7.9ms\n",
            "video 1/1 (91/179) /content/yolov5/trafficmini.mp4: 384x640 10 persons, 2 bicycles, 9 cars, 6 buss, 7.9ms\n",
            "video 1/1 (92/179) /content/yolov5/trafficmini.mp4: 384x640 11 persons, 2 bicycles, 10 cars, 6 buss, 7.9ms\n",
            "video 1/1 (93/179) /content/yolov5/trafficmini.mp4: 384x640 11 persons, 2 bicycles, 9 cars, 5 buss, 7.9ms\n",
            "video 1/1 (94/179) /content/yolov5/trafficmini.mp4: 384x640 12 persons, 2 bicycles, 9 cars, 5 buss, 7.9ms\n",
            "video 1/1 (95/179) /content/yolov5/trafficmini.mp4: 384x640 11 persons, 2 bicycles, 10 cars, 5 buss, 7.9ms\n",
            "video 1/1 (96/179) /content/yolov5/trafficmini.mp4: 384x640 10 persons, 2 bicycles, 10 cars, 6 buss, 7.9ms\n",
            "video 1/1 (97/179) /content/yolov5/trafficmini.mp4: 384x640 10 persons, 2 bicycles, 10 cars, 6 buss, 7.9ms\n",
            "video 1/1 (98/179) /content/yolov5/trafficmini.mp4: 384x640 10 persons, 2 bicycles, 9 cars, 6 buss, 7.9ms\n",
            "video 1/1 (99/179) /content/yolov5/trafficmini.mp4: 384x640 10 persons, 2 bicycles, 12 cars, 6 buss, 8.0ms\n",
            "video 1/1 (100/179) /content/yolov5/trafficmini.mp4: 384x640 10 persons, 2 bicycles, 12 cars, 6 buss, 7.9ms\n",
            "video 1/1 (101/179) /content/yolov5/trafficmini.mp4: 384x640 10 persons, 2 bicycles, 11 cars, 6 buss, 7.9ms\n",
            "video 1/1 (102/179) /content/yolov5/trafficmini.mp4: 384x640 9 persons, 2 bicycles, 12 cars, 6 buss, 7.9ms\n",
            "video 1/1 (103/179) /content/yolov5/trafficmini.mp4: 384x640 9 persons, 2 bicycles, 12 cars, 6 buss, 7.9ms\n",
            "video 1/1 (104/179) /content/yolov5/trafficmini.mp4: 384x640 7 persons, 2 bicycles, 11 cars, 6 buss, 7.9ms\n",
            "video 1/1 (105/179) /content/yolov5/trafficmini.mp4: 384x640 8 persons, 2 bicycles, 12 cars, 6 buss, 7.9ms\n",
            "video 1/1 (106/179) /content/yolov5/trafficmini.mp4: 384x640 8 persons, 3 bicycles, 11 cars, 6 buss, 7.9ms\n",
            "video 1/1 (107/179) /content/yolov5/trafficmini.mp4: 384x640 7 persons, 2 bicycles, 10 cars, 6 buss, 7.9ms\n",
            "video 1/1 (108/179) /content/yolov5/trafficmini.mp4: 384x640 7 persons, 2 bicycles, 12 cars, 6 buss, 7.9ms\n",
            "video 1/1 (109/179) /content/yolov5/trafficmini.mp4: 384x640 7 persons, 2 bicycles, 11 cars, 6 buss, 7.9ms\n",
            "video 1/1 (110/179) /content/yolov5/trafficmini.mp4: 384x640 9 persons, 2 bicycles, 14 cars, 6 buss, 8.7ms\n",
            "video 1/1 (111/179) /content/yolov5/trafficmini.mp4: 384x640 10 persons, 2 bicycles, 13 cars, 7 buss, 8.0ms\n",
            "video 1/1 (112/179) /content/yolov5/trafficmini.mp4: 384x640 8 persons, 2 bicycles, 11 cars, 7 buss, 10.0ms\n",
            "video 1/1 (113/179) /content/yolov5/trafficmini.mp4: 384x640 9 persons, 2 bicycles, 11 cars, 7 buss, 7.9ms\n",
            "video 1/1 (114/179) /content/yolov5/trafficmini.mp4: 384x640 9 persons, 2 bicycles, 11 cars, 8 buss, 7.9ms\n",
            "video 1/1 (115/179) /content/yolov5/trafficmini.mp4: 384x640 9 persons, 2 bicycles, 10 cars, 8 buss, 7.9ms\n",
            "video 1/1 (116/179) /content/yolov5/trafficmini.mp4: 384x640 7 persons, 2 bicycles, 10 cars, 8 buss, 7.9ms\n",
            "video 1/1 (117/179) /content/yolov5/trafficmini.mp4: 384x640 8 persons, 2 bicycles, 12 cars, 8 buss, 9.6ms\n",
            "video 1/1 (118/179) /content/yolov5/trafficmini.mp4: 384x640 8 persons, 2 bicycles, 12 cars, 6 buss, 7.9ms\n",
            "video 1/1 (119/179) /content/yolov5/trafficmini.mp4: 384x640 10 persons, 2 bicycles, 11 cars, 7 buss, 7.9ms\n",
            "video 1/1 (120/179) /content/yolov5/trafficmini.mp4: 384x640 9 persons, 2 bicycles, 8 cars, 7 buss, 7.9ms\n",
            "video 1/1 (121/179) /content/yolov5/trafficmini.mp4: 384x640 9 persons, 2 bicycles, 11 cars, 6 buss, 7.9ms\n",
            "video 1/1 (122/179) /content/yolov5/trafficmini.mp4: 384x640 9 persons, 2 bicycles, 11 cars, 7 buss, 7.9ms\n",
            "video 1/1 (123/179) /content/yolov5/trafficmini.mp4: 384x640 8 persons, 2 bicycles, 7 cars, 7 buss, 7.9ms\n",
            "video 1/1 (124/179) /content/yolov5/trafficmini.mp4: 384x640 9 persons, 2 bicycles, 9 cars, 7 buss, 7.9ms\n",
            "video 1/1 (125/179) /content/yolov5/trafficmini.mp4: 384x640 8 persons, 2 bicycles, 12 cars, 7 buss, 7.9ms\n",
            "video 1/1 (126/179) /content/yolov5/trafficmini.mp4: 384x640 8 persons, 3 bicycles, 13 cars, 7 buss, 7.9ms\n",
            "video 1/1 (127/179) /content/yolov5/trafficmini.mp4: 384x640 8 persons, 3 bicycles, 13 cars, 7 buss, 7.9ms\n",
            "video 1/1 (128/179) /content/yolov5/trafficmini.mp4: 384x640 10 persons, 3 bicycles, 13 cars, 7 buss, 7.9ms\n",
            "video 1/1 (129/179) /content/yolov5/trafficmini.mp4: 384x640 9 persons, 3 bicycles, 12 cars, 7 buss, 7.9ms\n",
            "video 1/1 (130/179) /content/yolov5/trafficmini.mp4: 384x640 7 persons, 3 bicycles, 9 cars, 7 buss, 8.0ms\n",
            "video 1/1 (131/179) /content/yolov5/trafficmini.mp4: 384x640 11 persons, 2 bicycles, 11 cars, 6 buss, 1 truck, 7.9ms\n",
            "video 1/1 (132/179) /content/yolov5/trafficmini.mp4: 384x640 11 persons, 2 bicycles, 9 cars, 5 buss, 7.9ms\n",
            "video 1/1 (133/179) /content/yolov5/trafficmini.mp4: 384x640 11 persons, 2 bicycles, 9 cars, 5 buss, 9.7ms\n",
            "video 1/1 (134/179) /content/yolov5/trafficmini.mp4: 384x640 9 persons, 2 bicycles, 10 cars, 7 buss, 1 truck, 7.9ms\n",
            "video 1/1 (135/179) /content/yolov5/trafficmini.mp4: 384x640 8 persons, 2 bicycles, 10 cars, 6 buss, 1 truck, 7.9ms\n",
            "video 1/1 (136/179) /content/yolov5/trafficmini.mp4: 384x640 9 persons, 2 bicycles, 9 cars, 6 buss, 1 truck, 7.9ms\n",
            "video 1/1 (137/179) /content/yolov5/trafficmini.mp4: 384x640 9 persons, 2 bicycles, 10 cars, 7 buss, 1 truck, 7.9ms\n",
            "video 1/1 (138/179) /content/yolov5/trafficmini.mp4: 384x640 9 persons, 2 bicycles, 10 cars, 7 buss, 1 truck, 7.9ms\n",
            "video 1/1 (139/179) /content/yolov5/trafficmini.mp4: 384x640 9 persons, 2 bicycles, 10 cars, 7 buss, 1 truck, 7.9ms\n",
            "video 1/1 (140/179) /content/yolov5/trafficmini.mp4: 384x640 8 persons, 2 bicycles, 10 cars, 6 buss, 2 trucks, 7.9ms\n",
            "video 1/1 (141/179) /content/yolov5/trafficmini.mp4: 384x640 10 persons, 2 bicycles, 10 cars, 5 buss, 3 trucks, 7.9ms\n",
            "video 1/1 (142/179) /content/yolov5/trafficmini.mp4: 384x640 11 persons, 2 bicycles, 11 cars, 6 buss, 2 trucks, 7.9ms\n",
            "video 1/1 (143/179) /content/yolov5/trafficmini.mp4: 384x640 8 persons, 2 bicycles, 11 cars, 5 buss, 2 trucks, 7.9ms\n",
            "video 1/1 (144/179) /content/yolov5/trafficmini.mp4: 384x640 8 persons, 3 bicycles, 14 cars, 5 buss, 3 trucks, 7.9ms\n",
            "video 1/1 (145/179) /content/yolov5/trafficmini.mp4: 384x640 8 persons, 3 bicycles, 15 cars, 5 buss, 3 trucks, 7.9ms\n",
            "video 1/1 (146/179) /content/yolov5/trafficmini.mp4: 384x640 6 persons, 2 bicycles, 14 cars, 6 buss, 3 trucks, 7.9ms\n",
            "video 1/1 (147/179) /content/yolov5/trafficmini.mp4: 384x640 7 persons, 2 bicycles, 14 cars, 6 buss, 2 trucks, 8.0ms\n",
            "video 1/1 (148/179) /content/yolov5/trafficmini.mp4: 384x640 6 persons, 2 bicycles, 13 cars, 6 buss, 2 trucks, 7.9ms\n",
            "video 1/1 (149/179) /content/yolov5/trafficmini.mp4: 384x640 7 persons, 2 bicycles, 17 cars, 6 buss, 2 trucks, 7.9ms\n",
            "video 1/1 (150/179) /content/yolov5/trafficmini.mp4: 384x640 7 persons, 2 bicycles, 15 cars, 5 buss, 1 truck, 10.1ms\n",
            "video 1/1 (151/179) /content/yolov5/trafficmini.mp4: 384x640 8 persons, 2 bicycles, 14 cars, 6 buss, 1 truck, 8.0ms\n",
            "video 1/1 (152/179) /content/yolov5/trafficmini.mp4: 384x640 8 persons, 2 bicycles, 16 cars, 4 buss, 7.9ms\n",
            "video 1/1 (153/179) /content/yolov5/trafficmini.mp4: 384x640 6 persons, 2 bicycles, 14 cars, 6 buss, 1 truck, 8.0ms\n",
            "video 1/1 (154/179) /content/yolov5/trafficmini.mp4: 384x640 5 persons, 2 bicycles, 15 cars, 1 motorcycle, 6 buss, 7.9ms\n",
            "video 1/1 (155/179) /content/yolov5/trafficmini.mp4: 384x640 5 persons, 2 bicycles, 16 cars, 1 motorcycle, 6 buss, 2 trucks, 7.9ms\n",
            "video 1/1 (156/179) /content/yolov5/trafficmini.mp4: 384x640 4 persons, 2 bicycles, 17 cars, 1 motorcycle, 6 buss, 1 truck, 7.9ms\n",
            "video 1/1 (157/179) /content/yolov5/trafficmini.mp4: 384x640 4 persons, 2 bicycles, 17 cars, 1 motorcycle, 6 buss, 1 truck, 7.9ms\n",
            "video 1/1 (158/179) /content/yolov5/trafficmini.mp4: 384x640 4 persons, 2 bicycles, 18 cars, 1 motorcycle, 6 buss, 2 trucks, 7.9ms\n",
            "video 1/1 (159/179) /content/yolov5/trafficmini.mp4: 384x640 4 persons, 2 bicycles, 20 cars, 1 motorcycle, 5 buss, 2 trucks, 8.0ms\n",
            "video 1/1 (160/179) /content/yolov5/trafficmini.mp4: 384x640 4 persons, 2 bicycles, 17 cars, 1 motorcycle, 6 buss, 1 truck, 7.9ms\n",
            "video 1/1 (161/179) /content/yolov5/trafficmini.mp4: 384x640 5 persons, 3 bicycles, 19 cars, 1 motorcycle, 5 buss, 3 trucks, 7.9ms\n",
            "video 1/1 (162/179) /content/yolov5/trafficmini.mp4: 384x640 5 persons, 2 bicycles, 20 cars, 1 motorcycle, 5 buss, 1 truck, 7.9ms\n",
            "video 1/1 (163/179) /content/yolov5/trafficmini.mp4: 384x640 5 persons, 2 bicycles, 20 cars, 1 motorcycle, 5 buss, 1 truck, 7.9ms\n",
            "video 1/1 (164/179) /content/yolov5/trafficmini.mp4: 384x640 5 persons, 2 bicycles, 19 cars, 1 motorcycle, 4 buss, 2 trucks, 7.9ms\n",
            "video 1/1 (165/179) /content/yolov5/trafficmini.mp4: 384x640 5 persons, 2 bicycles, 19 cars, 1 motorcycle, 5 buss, 1 truck, 7.9ms\n",
            "video 1/1 (166/179) /content/yolov5/trafficmini.mp4: 384x640 6 persons, 2 bicycles, 18 cars, 1 motorcycle, 4 buss, 1 truck, 7.9ms\n",
            "video 1/1 (167/179) /content/yolov5/trafficmini.mp4: 384x640 8 persons, 2 bicycles, 19 cars, 2 motorcycles, 3 buss, 8.0ms\n",
            "video 1/1 (168/179) /content/yolov5/trafficmini.mp4: 384x640 7 persons, 2 bicycles, 18 cars, 1 motorcycle, 3 buss, 8.8ms\n",
            "video 1/1 (169/179) /content/yolov5/trafficmini.mp4: 384x640 7 persons, 2 bicycles, 19 cars, 1 motorcycle, 3 buss, 8.0ms\n",
            "video 1/1 (170/179) /content/yolov5/trafficmini.mp4: 384x640 7 persons, 2 bicycles, 19 cars, 1 motorcycle, 3 buss, 1 truck, 7.9ms\n",
            "video 1/1 (171/179) /content/yolov5/trafficmini.mp4: 384x640 6 persons, 2 bicycles, 16 cars, 1 motorcycle, 5 buss, 7.9ms\n",
            "video 1/1 (172/179) /content/yolov5/trafficmini.mp4: 384x640 8 persons, 2 bicycles, 18 cars, 1 motorcycle, 5 buss, 1 truck, 7.9ms\n",
            "video 1/1 (173/179) /content/yolov5/trafficmini.mp4: 384x640 9 persons, 2 bicycles, 17 cars, 1 motorcycle, 4 buss, 7.9ms\n",
            "video 1/1 (174/179) /content/yolov5/trafficmini.mp4: 384x640 9 persons, 2 bicycles, 16 cars, 1 motorcycle, 5 buss, 1 truck, 7.9ms\n",
            "video 1/1 (175/179) /content/yolov5/trafficmini.mp4: 384x640 9 persons, 2 bicycles, 16 cars, 1 motorcycle, 5 buss, 1 truck, 7.9ms\n",
            "video 1/1 (176/179) /content/yolov5/trafficmini.mp4: 384x640 9 persons, 2 bicycles, 16 cars, 1 motorcycle, 5 buss, 1 truck, 7.9ms\n",
            "video 1/1 (177/179) /content/yolov5/trafficmini.mp4: 384x640 8 persons, 2 bicycles, 16 cars, 1 motorcycle, 4 buss, 1 truck, 7.9ms\n",
            "video 1/1 (178/179) /content/yolov5/trafficmini.mp4: 384x640 7 persons, 2 bicycles, 19 cars, 2 motorcycles, 5 buss, 1 truck, 7.9ms\n",
            "video 1/1 (179/179) /content/yolov5/trafficmini.mp4: 384x640 6 persons, 2 bicycles, 17 cars, 1 motorcycle, 4 buss, 7.9ms\n",
            "Speed: 0.4ms pre-process, 8.3ms inference, 3.8ms NMS per image at shape (1, 3, 640, 640)\n",
            "Results saved to \u001b[1mruns/detect/exp13\u001b[0m\n"
          ]
        }
      ]
    },
    {
      "cell_type": "markdown",
      "metadata": {
        "id": "AkaoMlvSHoSC"
      },
      "source": [
        "## Download the output  File"
      ]
    },
    {
      "cell_type": "code",
      "metadata": {
        "id": "ymEdn38VD_8c",
        "colab": {
          "base_uri": "https://localhost:8080/",
          "height": 293
        },
        "outputId": "4e13dde2-f27a-442b-d2b1-f00727a539b8"
      },
      "source": [
        "from google.colab import files\n",
        "files.download('/content/yolov5/runs/detect/.jpg')"
      ],
      "execution_count": null,
      "outputs": [
        {
          "output_type": "error",
          "ename": "FileNotFoundError",
          "evalue": "Cannot find file: /content/yolov5/inference/output/bus.jpg",
          "traceback": [
            "\u001b[0;31m---------------------------------------------------------------------------\u001b[0m",
            "\u001b[0;31mFileNotFoundError\u001b[0m                         Traceback (most recent call last)",
            "\u001b[0;32m<ipython-input-23-07935adf9e20>\u001b[0m in \u001b[0;36m<cell line: 2>\u001b[0;34m()\u001b[0m\n\u001b[1;32m      1\u001b[0m \u001b[0;32mfrom\u001b[0m \u001b[0mgoogle\u001b[0m\u001b[0;34m.\u001b[0m\u001b[0mcolab\u001b[0m \u001b[0;32mimport\u001b[0m \u001b[0mfiles\u001b[0m\u001b[0;34m\u001b[0m\u001b[0;34m\u001b[0m\u001b[0m\n\u001b[0;32m----> 2\u001b[0;31m \u001b[0mfiles\u001b[0m\u001b[0;34m.\u001b[0m\u001b[0mdownload\u001b[0m\u001b[0;34m(\u001b[0m\u001b[0;34m'/content/yolov5/inference/output/bus.jpg'\u001b[0m\u001b[0;34m)\u001b[0m\u001b[0;34m\u001b[0m\u001b[0;34m\u001b[0m\u001b[0m\n\u001b[0m",
            "\u001b[0;32m/usr/local/lib/python3.10/dist-packages/google/colab/files.py\u001b[0m in \u001b[0;36mdownload\u001b[0;34m(filename)\u001b[0m\n\u001b[1;32m    223\u001b[0m   \u001b[0;32mif\u001b[0m \u001b[0;32mnot\u001b[0m \u001b[0m_os\u001b[0m\u001b[0;34m.\u001b[0m\u001b[0mpath\u001b[0m\u001b[0;34m.\u001b[0m\u001b[0mexists\u001b[0m\u001b[0;34m(\u001b[0m\u001b[0mfilename\u001b[0m\u001b[0;34m)\u001b[0m\u001b[0;34m:\u001b[0m\u001b[0;34m\u001b[0m\u001b[0;34m\u001b[0m\u001b[0m\n\u001b[1;32m    224\u001b[0m     \u001b[0mmsg\u001b[0m \u001b[0;34m=\u001b[0m \u001b[0;34m'Cannot find file: {}'\u001b[0m\u001b[0;34m.\u001b[0m\u001b[0mformat\u001b[0m\u001b[0;34m(\u001b[0m\u001b[0mfilename\u001b[0m\u001b[0;34m)\u001b[0m\u001b[0;34m\u001b[0m\u001b[0;34m\u001b[0m\u001b[0m\n\u001b[0;32m--> 225\u001b[0;31m     \u001b[0;32mraise\u001b[0m \u001b[0mFileNotFoundError\u001b[0m\u001b[0;34m(\u001b[0m\u001b[0mmsg\u001b[0m\u001b[0;34m)\u001b[0m  \u001b[0;31m# pylint: disable=undefined-variable\u001b[0m\u001b[0;34m\u001b[0m\u001b[0;34m\u001b[0m\u001b[0m\n\u001b[0m\u001b[1;32m    226\u001b[0m \u001b[0;34m\u001b[0m\u001b[0m\n\u001b[1;32m    227\u001b[0m   \u001b[0mcomm_manager\u001b[0m \u001b[0;34m=\u001b[0m \u001b[0m_IPython\u001b[0m\u001b[0;34m.\u001b[0m\u001b[0mget_ipython\u001b[0m\u001b[0;34m(\u001b[0m\u001b[0;34m)\u001b[0m\u001b[0;34m.\u001b[0m\u001b[0mkernel\u001b[0m\u001b[0;34m.\u001b[0m\u001b[0mcomm_manager\u001b[0m\u001b[0;34m\u001b[0m\u001b[0;34m\u001b[0m\u001b[0m\n",
            "\u001b[0;31mFileNotFoundError\u001b[0m: Cannot find file: /content/yolov5/inference/output/bus.jpg"
          ]
        }
      ]
    },
    {
      "cell_type": "code",
      "metadata": {
        "id": "d1O3DgwLEyAg",
        "colab": {
          "base_uri": "https://localhost:8080/",
          "height": 147
        },
        "outputId": "83c3eeb0-46c4-42cd-e68a-76f3dc537ea4"
      },
      "source": [
        "pr"
      ],
      "execution_count": null,
      "outputs": [
        {
          "output_type": "error",
          "ename": "NameError",
          "evalue": "name 'pr' is not defined",
          "traceback": [
            "\u001b[0;31m---------------------------------------------------------------------------\u001b[0m",
            "\u001b[0;31mNameError\u001b[0m                                 Traceback (most recent call last)",
            "\u001b[0;32m<ipython-input-19-07c73c38aafa>\u001b[0m in \u001b[0;36m<cell line: 1>\u001b[0;34m()\u001b[0m\n\u001b[0;32m----> 1\u001b[0;31m \u001b[0mpr\u001b[0m\u001b[0;34m\u001b[0m\u001b[0;34m\u001b[0m\u001b[0m\n\u001b[0m",
            "\u001b[0;31mNameError\u001b[0m: name 'pr' is not defined"
          ]
        }
      ]
    }
  ]
}